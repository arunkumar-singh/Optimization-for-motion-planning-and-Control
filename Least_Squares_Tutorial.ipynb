{
  "nbformat": 4,
  "nbformat_minor": 0,
  "metadata": {
    "colab": {
      "provenance": []
    },
    "kernelspec": {
      "name": "python3",
      "display_name": "Python 3"
    },
    "language_info": {
      "name": "python"
    }
  },
  "cells": [
    {
      "cell_type": "code",
      "execution_count": null,
      "metadata": {
        "id": "m4HbHrHlqtII"
      },
      "outputs": [],
      "source": []
    },
    {
      "cell_type": "markdown",
      "source": [
        "\n",
        "### Problem 1\n",
        "\n",
        "Consider the following linear least squares problem\n",
        "\n",
        "\\begin{align}\n",
        "\\min \\frac{1}{2}((x_1+x_2-3)^2+(2x_1-x_2+4)^2)\n",
        "\\end{align}\n",
        "\n",
        "We want to write it in the QP form $\\frac{1}{2}\\mathbf{x}^T\\mathbf{Q}\\mathbf{x}+\\mathbf{q}^T\\mathbf{x}$\n",
        "\n",
        "## Solution Processs\n",
        "Stack the arguments within the square bracket and put it in standard linear form\n",
        "\n",
        "\\begin{align}\n",
        "\\min \\frac{1}{2}\\left \\Vert \\begin{bmatrix}\n",
        "x_1+x_2-3\\\\\n",
        "2x_1-x_2+4\n",
        "\\end{bmatrix}\\right\\Vert_2^2 = \\frac{1}{2}\\left \\Vert \\mathbf{A}\\mathbf{x}-\\mathbf{b}\\right\\Vert_2^2\n",
        "\\end{align}\n",
        "\n",
        "\\begin{align}\n",
        "\\mathbf{A} = \\begin{bmatrix}\n",
        "1 & 1\\\\\n",
        "2 & -1\n",
        "\\end{bmatrix}, \\mathbf{b} = \\begin{bmatrix}\n",
        "3 \\\\\n",
        "-4\n",
        "\\end{bmatrix}\n",
        "\\end{align}\n",
        "\n",
        "We can now define $\\mathbf{Q} = \\mathbf{A}^T\\mathbf{A}, \\mathbf{q} = -\\mathbf{A}^Tb$"
      ],
      "metadata": {
        "id": "3F-y8bjhrBny"
      }
    },
    {
      "cell_type": "code",
      "source": [],
      "metadata": {
        "id": "CR6jJM4UrQYS"
      },
      "execution_count": null,
      "outputs": []
    },
    {
      "cell_type": "markdown",
      "source": [
        "### Problem 2\n",
        "\n",
        "Consider the following non-linear least-squares problem\n",
        "\n",
        "\\begin{align}\n",
        "\\min \\frac{1}{2}\\left\\Vert \\mathbf{c}(\\mathbf{x})\\right\\Vert_2^2\n",
        "\\end{align}\n",
        "\n",
        "where\n",
        "\n",
        "\\begin{align}\n",
        "\\left\\Vert \\mathbf{c}(\\mathbf{x})\\right\\Vert_2^2 = \\overbrace{(x_1^2+\\sin x_2-3)^2}^{c_1(\\mathbf{x})}+\\overbrace{(\\cos x_1-\\sin x_2)^2}^{c_2(\\mathbf{x})}\n",
        "\\end{align}\n",
        "\n",
        "$\\mathbf{x} = (x_1, x_2)$\n",
        "\n",
        "\n",
        "## Solution Process\n",
        "\n",
        "Construct the folowing vector valued function\n",
        "\n",
        "\\begin{align}\n",
        "\\mathbf{c}(\\mathbf{x}) = \\begin{bmatrix}\n",
        "x_1^2+\\sin x_2-3\\\\\n",
        "\\cos x_1-\\sin x_2\n",
        "\\end{bmatrix}\n",
        "\\end{align}\n",
        "\n",
        "Jacobian around some point ${^k}\\mathbf{x}$\n",
        "\n",
        "\\begin{align}\n",
        "\\mathbf{A} = \\begin{bmatrix}\n",
        "\\nabla_{x}c_1({^k}\\mathbf{x})\\\\\n",
        "\\nabla_{x}c_2({^k}\\mathbf{x})\n",
        "\\end{bmatrix}\n",
        "\\end{align}\n",
        "\n",
        "And linear approximation of $\\mathbf{c}(\\mathbf{x})$\n",
        "\n",
        "\\begin{align}\n",
        "\\mathbf{c}(\\mathbf{x})\\approx \\mathbf{A}\\mathbf{x}-\\mathbf{b}\n",
        "\\end{align}\n",
        "\n",
        "$\\mathbf{b} = \\mathbf{A}{^k}\\mathbf{x}-\\mathbf{c}({^k}\\mathbf{x})$\n",
        "\n",
        "LS approximation of NLS is given by\n",
        "\n",
        "\\begin{align}\n",
        "\\frac{1}{2}\\left\\Vert \\mathbf{c}(\\mathbf{x})\\right\\Vert_2^2 \\approx \\frac{1}{2}\\left \\Vert \\mathbf{A}\\mathbf{x}-\\mathbf{b}\\right\\Vert_2^2 = \\frac{1}{2}\\mathbf{x}^T\\mathbf{Q}\\mathbf{x}+\\mathbf{q}^T\\mathbf{x}\n",
        "\\end{align}\n",
        "\n",
        "\n"
      ],
      "metadata": {
        "id": "RS0aRz_uzDlo"
      }
    },
    {
      "cell_type": "code",
      "source": [
        "import numpy as np\n",
        "import jax.numpy as jnp\n",
        "\n",
        "import matplotlib.pyplot as plt\n",
        "\n",
        "from jax import jit, random, jacfwd\n",
        "\n",
        "\n",
        "\n",
        "def compute_error_func(x ):\n",
        "\n",
        "  x_1 = x[0]\n",
        "  x_2 = x[1]\n",
        "\n",
        "  error_1 = x_1**2+jnp.sin(x_2)-3\n",
        "  error_2 = jnp.cos(x_1)-jnp.sin(x_2)\n",
        "\n",
        "  c = jnp.hstack(( error_1, error_2   ))\n",
        "\n",
        "  return c\n",
        "\n",
        "jac_func = jacfwd(compute_error_func, argnums = (0))\n",
        "\n",
        "x = jnp.ones(2)\n",
        "\n",
        "print(jac_func(x))\n",
        "\n",
        "\n",
        "#### Gauss Newton Loop\n",
        "\n",
        "maxiter = 100\n",
        "\n",
        "error_track = []\n",
        "eta = 0.3\n",
        "for i in range(0, maxiter):\n",
        "  A = jac_func(x)\n",
        "  b = jnp.dot(A, x)-compute_error_func(x)\n",
        "\n",
        "  Q = jnp.dot(A.T, A)+(1/eta)*jnp.identity(2)\n",
        "  q = -jnp.dot(A.T, b)-(1/eta)*x\n",
        "\n",
        "  x = jnp.linalg.solve(Q, -q)\n",
        "\n",
        "  error_value = compute_error_func(x)\n",
        "  error_track.append(jnp.linalg.norm(error_value))\n",
        "\n",
        "\n",
        "print(x)\n",
        "\n",
        "plt.figure(1)\n",
        "plt.plot(error_track)\n",
        "\n",
        "plt.show()\n",
        "\n",
        "\n",
        "\n",
        "\n"
      ],
      "metadata": {
        "colab": {
          "base_uri": "https://localhost:8080/",
          "height": 482
        },
        "id": "UPhp4m638_MB",
        "outputId": "872a6b0a-80ba-4a11-aa99-b61d1d3cee88"
      },
      "execution_count": 11,
      "outputs": [
        {
          "output_type": "stream",
          "name": "stdout",
          "text": [
            "[[ 2.          0.5403023 ]\n",
            " [-0.84147096 -0.5403023 ]]\n",
            "[ 1.7951117  -0.22430521]\n"
          ]
        },
        {
          "output_type": "display_data",
          "data": {
            "text/plain": [
              "<Figure size 640x480 with 1 Axes>"
            ],
            "image/png": "[encoded data removed]"
          },
          "metadata": {}
        }
      ]
    },
    {
      "cell_type": "markdown",
      "source": [
        "### Problem 3\n",
        "\n",
        "## Solve the NLS problem for IK problem\n",
        "\n",
        "\\begin{align}\n",
        "\\min \\frac{1}{2}\\left \\Vert c(\\boldsymbol{\\theta})\\right \\Vert_2^2\n",
        "\\end{align}\n",
        "\n",
        "\\begin{align}\n",
        "\\left \\Vert c(\\boldsymbol{\\theta})\\right \\Vert_2^2 = (l_1\\cos \\theta_1+l_2\\cos(\\theta_1+\\theta_2)+l_3 \\cos(\\theta_1+\\theta_2+\\theta_3)-x_f)^2+(l_1\\sin \\theta_1+l_2\\sin(\\theta_1+\\theta_2)+l_3 \\sin(\\theta_1+\\theta_2+\\theta_3)-y_f)^2\n",
        "\\end{align}\n",
        "\n",
        "\n"
      ],
      "metadata": {
        "id": "dluIhtPFMizJ"
      }
    },
    {
      "cell_type": "code",
      "source": [
        "import numpy as np\n",
        "import matplotlib.pyplot as plt\n",
        "\n",
        "import jax.numpy as jnp\n",
        "from jax import jit, random, jacfwd\n",
        "\n",
        "\n",
        "\n",
        "x_f = 1.0\n",
        "y_f = 2.0\n",
        "\n",
        "l_1 = 1.5\n",
        "l_2 = 1.5\n",
        "l_3 = 1.5\n",
        "\n"
      ],
      "metadata": {
        "id": "ZgV03ZN3UsF5"
      },
      "execution_count": null,
      "outputs": []
    }
  ]
}