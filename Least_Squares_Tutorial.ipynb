{
  "nbformat": 4,
  "nbformat_minor": 0,
  "metadata": {
    "colab": {
      "provenance": []
    },
    "kernelspec": {
      "name": "python3",
      "display_name": "Python 3"
    },
    "language_info": {
      "name": "python"
    }
  },
  "cells": [
    {
      "cell_type": "code",
      "execution_count": null,
      "metadata": {
        "id": "m4HbHrHlqtII"
      },
      "outputs": [],
      "source": []
    },
    {
      "cell_type": "markdown",
      "source": [
        "\n",
        "### Problem 1\n",
        "\n",
        "Consider the following linear least squares problem\n",
        "\n",
        "\\begin{align}\n",
        "\\min \\frac{1}{2}((x_1+x_2-3)^2+(2x_1-x_2+4)^2)\n",
        "\\end{align}\n",
        "\n",
        "We want to write it in the QP form $\\frac{1}{2}\\mathbf{x}^T\\mathbf{Q}\\mathbf{x}+\\mathbf{q}^T\\mathbf{x}$\n",
        "\n",
        "## Solution Processs\n",
        "Stack the arguments within the square bracket and put it in standard linear form\n",
        "\n",
        "\\begin{align}\n",
        "\\min \\frac{1}{2}\\left \\Vert \\begin{bmatrix}\n",
        "x_1+x_2-3\\\\\n",
        "2x_1-x_2+4\n",
        "\\end{bmatrix}\\right\\Vert_2^2 = \\frac{1}{2}\\left \\Vert \\mathbf{A}\\mathbf{x}-\\mathbf{b}\\right\\Vert_2^2\n",
        "\\end{align}\n",
        "\n",
        "\\begin{align}\n",
        "\\mathbf{A} = \\begin{bmatrix}\n",
        "1 & 1\\\\\n",
        "2 & -1\n",
        "\\end{bmatrix}, \\mathbf{b} = \\begin{bmatrix}\n",
        "3 \\\\\n",
        "-4\n",
        "\\end{bmatrix}\n",
        "\\end{align}\n",
        "\n",
        "We can now define $\\mathbf{Q} = \\mathbf{A}^T\\mathbf{A}, \\mathbf{q} = -\\mathbf{A}^Tb$"
      ],
      "metadata": {
        "id": "3F-y8bjhrBny"
      }
    },
    {
      "cell_type": "code",
      "source": [
        "import numpy as np\n",
        "import jax.numpy as jnp\n",
        "\n",
        "\n",
        "A_1 = jnp.hstack(( 1, 1  ))\n",
        "A_2 = jnp.hstack(( 2, -1  ))\n",
        "\n",
        "A = jnp.vstack((A_1, A_2  ))\n",
        "b = jnp.hstack((3, -4   ))\n",
        "\n",
        "Q = jnp.dot(A.T, A)\n",
        "q = -jnp.dot(A.T, b)\n",
        "\n",
        "x = jnp.linalg.solve(Q, -q)\n",
        "\n",
        "print(x)\n"
      ],
      "metadata": {
        "id": "CR6jJM4UrQYS",
        "colab": {
          "base_uri": "https://localhost:8080/"
        },
        "outputId": "81d47df2-ff5f-422f-f8b0-a5bfabc1f6ce"
      },
      "execution_count": 12,
      "outputs": [
        {
          "output_type": "stream",
          "name": "stdout",
          "text": [
            "[-0.3333333  3.3333335]\n"
          ]
        }
      ]
    },
    {
      "cell_type": "markdown",
      "source": [
        "### Problem 2\n",
        "\n",
        "Consider the following non-linear least-squares problem\n",
        "\n",
        "\\begin{align}\n",
        "\\min \\frac{1}{2}\\left\\Vert \\mathbf{c}(\\mathbf{x})\\right\\Vert_2^2\n",
        "\\end{align}\n",
        "\n",
        "where\n",
        "\n",
        "\\begin{align}\n",
        "\\left\\Vert \\mathbf{c}(\\mathbf{x})\\right\\Vert_2^2 = \\overbrace{(x_1^2+\\sin x_2-3)^2}^{c_1(\\mathbf{x})}+\\overbrace{(\\cos x_1-\\sin x_2)^2}^{c_2(\\mathbf{x})}\n",
        "\\end{align}\n",
        "\n",
        "$\\mathbf{x} = (x_1, x_2)$\n",
        "\n",
        "\n",
        "## Solution Process\n",
        "\n",
        "Construct the folowing vector valued function\n",
        "\n",
        "\\begin{align}\n",
        "\\mathbf{c}(\\mathbf{x}) = \\begin{bmatrix}\n",
        "x_1^2+\\sin x_2-3\\\\\n",
        "\\cos x_1-\\sin x_2\n",
        "\\end{bmatrix}\n",
        "\\end{align}\n",
        "\n",
        "Jacobian around some point ${^k}\\mathbf{x}$\n",
        "\n",
        "\\begin{align}\n",
        "\\mathbf{A} = \\begin{bmatrix}\n",
        "\\nabla_{x}c_1({^k}\\mathbf{x})\\\\\n",
        "\\nabla_{x}c_2({^k}\\mathbf{x})\n",
        "\\end{bmatrix}\n",
        "\\end{align}\n",
        "\n",
        "And linear approximation of $\\mathbf{c}(\\mathbf{x})$\n",
        "\n",
        "\\begin{align}\n",
        "\\mathbf{c}(\\mathbf{x})\\approx \\mathbf{A}\\mathbf{x}-\\mathbf{b}\n",
        "\\end{align}\n",
        "\n",
        "$\\mathbf{b} = \\mathbf{A}{^k}\\mathbf{x}-\\mathbf{c}({^k}\\mathbf{x})$\n",
        "\n",
        "LS approximation of NLS is given by\n",
        "\n",
        "\\begin{align}\n",
        "\\frac{1}{2}\\left\\Vert \\mathbf{c}(\\mathbf{x})\\right\\Vert_2^2 \\approx \\frac{1}{2}\\left \\Vert \\mathbf{A}\\mathbf{x}-\\mathbf{b}\\right\\Vert_2^2 = \\frac{1}{2}\\mathbf{x}^T\\mathbf{Q}\\mathbf{x}+\\mathbf{q}^T\\mathbf{x}\n",
        "\\end{align}\n",
        "\n",
        "\n"
      ],
      "metadata": {
        "id": "RS0aRz_uzDlo"
      }
    },
    {
      "cell_type": "code",
      "source": [
        "import numpy as np\n",
        "import jax.numpy as jnp\n",
        "\n",
        "import matplotlib.pyplot as plt\n",
        "\n",
        "from jax import jit, random, jacfwd\n",
        "\n",
        "\n",
        "\n",
        "def compute_error_func(x):\n",
        "\n",
        "  x_1 = x[0]\n",
        "  x_2 = x[1]\n",
        "\n",
        "  error_1 = x_1**2+jnp.sin(x_2)-3\n",
        "  error_2 = jnp.cos(x_1)-jnp.sin(x_2)\n",
        "\n",
        "  c = jnp.hstack(( error_1, error_2   ))\n",
        "\n",
        "  return c\n",
        "\n",
        "jac_func = jacfwd(compute_error_func, argnums = (0))\n",
        "\n",
        "x = jnp.ones(2)\n",
        "\n",
        "print(jac_func(x))\n",
        "\n",
        "\n",
        "#### Gauss Newton Loop\n",
        "\n",
        "maxiter = 100\n",
        "\n",
        "error_track = []\n",
        "eta = 0.3\n",
        "for i in range(0, maxiter):\n",
        "  A = jac_func(x) ### jacobian\n",
        "  b = jnp.dot(A, x)-compute_error_func(x)\n",
        "\n",
        "  Q = jnp.dot(A.T, A)+(1/eta)*jnp.identity(2)\n",
        "  q = -jnp.dot(A.T, b)-(1/eta)*x\n",
        "\n",
        "  x = jnp.linalg.solve(Q, -q)\n",
        "\n",
        "  error_value = compute_error_func(x)\n",
        "  error_track.append(jnp.linalg.norm(error_value))\n",
        "\n",
        "\n",
        "print(x)\n",
        "\n",
        "plt.figure(1)\n",
        "plt.plot(error_track)\n",
        "\n",
        "plt.show()\n",
        "\n",
        "\n",
        "\n",
        "\n"
      ],
      "metadata": {
        "colab": {
          "base_uri": "https://localhost:8080/",
          "height": 482
        },
        "id": "UPhp4m638_MB",
        "outputId": "a777e8a0-17a3-40e4-ebe0-bd74d870b9e8"
      },
      "execution_count": 19,
      "outputs": [
        {
          "output_type": "stream",
          "name": "stdout",
          "text": [
            "[[ 2.          0.5403023 ]\n",
            " [-0.84147096 -0.5403023 ]]\n",
            "[ 1.7951117  -0.22430521]\n"
          ]
        },
        {
          "output_type": "display_data",
          "data": {
            "text/plain": [
              "<Figure size 640x480 with 1 Axes>"
            ],
            "image/png": "[encoded data removed]"
          },
          "metadata": {}
        }
      ]
    },
    {
      "cell_type": "markdown",
      "source": [
        "### Problem 3\n",
        "\n",
        "## Solve the NLS problem for IK problem\n",
        "\n",
        "\\begin{align}\n",
        "\\min \\frac{1}{2}\\left \\Vert c(\\boldsymbol{\\theta})\\right \\Vert_2^2\n",
        "\\end{align}\n",
        "\n",
        "\\begin{align}\n",
        "\\left \\Vert c(\\boldsymbol{\\theta})\\right \\Vert_2^2 = (l_1\\cos \\theta_1+l_2\\cos(\\theta_1+\\theta_2)+l_3 \\cos(\\theta_1+\\theta_2+\\theta_3)-x_f)^2+(l_1\\sin \\theta_1+l_2\\sin(\\theta_1+\\theta_2)+l_3 \\sin(\\theta_1+\\theta_2+\\theta_3)-y_f)^2\n",
        "\\end{align}\n",
        "\n",
        "\n"
      ],
      "metadata": {
        "id": "dluIhtPFMizJ"
      }
    },
    {
      "cell_type": "code",
      "source": [
        "import numpy as np\n",
        "import matplotlib.pyplot as plt\n",
        "\n",
        "import jax.numpy as jnp\n",
        "from jax import jit, random, jacfwd\n",
        "\n",
        "\n",
        "\n",
        "x_f = 1.0\n",
        "y_f = 2.0\n",
        "\n",
        "l_1 = 1.5\n",
        "l_2 = 1.5\n",
        "l_3 = 1.5\n",
        "\n",
        "def compute_error_func(theta):\n",
        "\n",
        "  pass\n",
        "\n",
        "\n",
        "\n",
        "\n",
        "\n"
      ],
      "metadata": {
        "id": "ZgV03ZN3UsF5"
      },
      "execution_count": null,
      "outputs": []
    },
    {
      "cell_type": "code",
      "source": [
        "import numpy as np\n",
        "import jax.numpy as jnp\n",
        "import matplotlib.pyplot as plt\n",
        "from jax import grad, jit, jacfwd\n",
        "from functools import partial\n",
        "\n",
        "\n",
        "def compute_error_func(v, delta_t, n, m_1, m_2, x_init, y_init, x_f, y_f, x_1, y_1, x_2, y_2):\n",
        "  v_x = v[0: n]\n",
        "  v_y = v[n:2*n]\n",
        "  # v_x = v[0: n]\n",
        "  # omega = v[n: 2*n]\n",
        "\n",
        "  x = x_init+jnp.cumsum(v_x*delta_t)\n",
        "  y = y_init+jnp.cumsum(v_y*delta_t)\n",
        "\n",
        "  # theta_t = theta_0+jnp.cumsum(omega*delta_t)\n",
        "  # x_t = x_0+jnp.cumsum(v*jnp.cos(theta_t)*delta_t   )\n",
        "  # y_t = y_0+jnp.cumsum(v*jnp.sin(theta_t)*delta_t   )\n",
        "\n",
        "\n",
        "  c_g = (x[-1]-x_f)**2+(y[-1]-y_f)**2 ### 1st component\n",
        "  c_via = (x[m_1]-x_1)**2+(y[m_1]-y_1)**2+(x[m_2]-x_2)**2+(y[m_2]-y_2)**2 ## 2nd component\n",
        "  c_s = jnp.diff(v_x)**2+jnp.diff(v_y)**2 ## third component\n",
        "\n",
        "  #c = c_g+c_via+0.01*c_s\n",
        "\n",
        "  c = jnp.hstack(( c_g, c_via, c_s  ))\n",
        "\n",
        "  return c\n",
        "\n",
        "x_init = 0.0\n",
        "y_init = 0.0\n",
        "x_f = 2.0\n",
        "y_f = 2.0\n",
        "\n",
        "delta_t = 0.2\n",
        "\n",
        "\n",
        "# v_x = jnp.hstack(( 0.1, 0.2, 0.5  ))\n",
        "# v_y = jnp.hstack(( 0.2, 0.2, -0.3  ))\n",
        "# num = jnp.shape(v_x)[0]\n",
        "\n",
        "# v = jnp.hstack(( v_x, v_y ))\n",
        "\n",
        "n = 50\n",
        "v = jnp.zeros(2*n)\n",
        "\n",
        "jac_func = jacfwd(compute_error_func, argnums = (0))\n",
        "cost_jit = compute_error_func\n",
        "\n",
        "eta = 0.2\n",
        "\n",
        "maxiter = 100\n",
        "\n",
        "x_1 = 3.5\n",
        "y_1 = 0.6\n",
        "\n",
        "x_2 = 6.0\n",
        "y_2 = 3.0\n",
        "\n",
        "cost_track = []\n",
        "\n",
        "m_1 = 15\n",
        "m_2 = 30\n",
        "\n",
        "\n",
        "\n",
        "for i in range(0, maxiter):\n",
        "  A = jac_func(v, delta_t, n, m_1, m_2, x_init, y_init, x_f, y_f, x_1, y_1, x_2, y_2)\n",
        "  b = jnp.dot(A, v)-compute_error_func(v, delta_t, n, m_1, m_2, x_init, y_init, x_f, y_f, x_1, y_1, x_2, y_2)\n",
        "\n",
        "  Q = jnp.dot(A.T, A)+(1/eta)*jnp.identity(2*n)\n",
        "  q = -jnp.dot(A.T, b)-(1/eta)*v\n",
        "\n",
        "  v = jnp.linalg.solve(Q, -q)\n",
        "\n",
        "  error = compute_error_func(v, delta_t, n, m_1, m_2, x_init, y_init, x_f, y_f, x_1, y_1, x_2, y_2)\n",
        "  cost_track.append(jnp.linalg.norm(error))\n",
        "\n",
        "v_x = v[0: n]\n",
        "v_y = v[n:2*n]\n",
        "\n",
        "x = x_init+jnp.cumsum(v_x*delta_t)\n",
        "y = y_init+jnp.cumsum(v_y*delta_t)\n",
        "\n",
        "\n",
        "plt.figure(1)\n",
        "plt.plot(cost_track)\n",
        "\n",
        "plt.show()\n",
        "\n",
        "plt.figure(1)\n",
        "plt.plot(x, y, 'o-')\n",
        "plt.plot(x_1, y_1, 'om')\n",
        "plt.plot(x_2, y_2, 'og')\n",
        "plt.plot(x_f, y_f, 'ok')\n",
        "plt.plot(x_init, y_init, 'ob', markersize = 10.0 )\n",
        "plt.plot(x_f, y_f, 'or', markersize = 10.0)\n",
        "\n",
        "\n",
        "plt.axis('equal')\n",
        "plt.show()\n"
      ],
      "metadata": {
        "colab": {
          "base_uri": "https://localhost:8080/",
          "height": 843
        },
        "id": "9rzuoQ1wTRiy",
        "outputId": "37a4c9c6-16f3-48e9-98c1-9c95da6fb270"
      },
      "execution_count": 24,
      "outputs": [
        {
          "output_type": "display_data",
          "data": {
            "text/plain": [
              "<Figure size 640x480 with 1 Axes>"
            ],
            "image/png": "[encoded data removed]"
          },
          "metadata": {}
        },
        {
          "output_type": "display_data",
          "data": {
            "text/plain": [
              "<Figure size 640x480 with 1 Axes>"
            ],
            "image/png": "[encoded data removed]"
          },
          "metadata": {}
        }
      ]
    },
    {
      "cell_type": "code",
      "source": [
        "\n",
        "import numpy as np\n",
        "import jax.numpy as jnp\n",
        "import matplotlib.pyplot as plt\n",
        "from jax import grad, jit, jacfwd\n",
        "from functools import partial\n",
        "\n",
        "\n",
        "def compute_error_func(v, delta_t, n, m_1, m_2, x_init, y_init, x_f, y_f, x_1, y_1, x_2, y_2, x_obs, y_obs, r_obs, beta):\n",
        "  v_x = v[0: n]\n",
        "  v_y = v[n:2*n]\n",
        "\n",
        "  x = x_init+jnp.cumsum(v_x*delta_t)\n",
        "  y = y_init+jnp.cumsum(v_y*delta_t)\n",
        "\n",
        "  c_g = (x[-1]-x_f)**2+(y[-1]-y_f)**2\n",
        "  c_via = (x[m_1]-x_1)**2+(y[m_1]-y_1)**2+(x[m_2]-x_2)**2+(y[m_2]-y_2)**2\n",
        "  c_s = jnp.diff(v_x)**2+jnp.diff(v_y)**2\n",
        "\n",
        "  f_obs = (x-x_obs)**2+(y-y_obs)**2-r_obs**2\n",
        "  c_obs = jnp.sum(jnp.log(1+jnp.exp(-beta*f_obs))/beta)\n",
        "  # c_obs = jnp.maximum(jnp.zeros(n), -f_obs   )\n",
        "\n",
        "  # c = c_g+c_via+0.03*c_s+c_obs\n",
        "  c = jnp.hstack((c_g, c_via, c_s, c_obs  ))\n",
        "\n",
        "  return c\n",
        "\n",
        "x_init = 0.0\n",
        "y_init = 0.0\n",
        "x_f = 2.0\n",
        "y_f = 2.0\n",
        "\n",
        "delta_t = 0.2\n",
        "\n",
        "\n",
        "# v_x = jnp.hstack(( 0.1, 0.2, 0.5  ))\n",
        "# v_y = jnp.hstack(( 0.2, 0.2, -0.3  ))\n",
        "# num = jnp.shape(v_x)[0]\n",
        "\n",
        "# v = jnp.hstack(( v_x, v_y ))\n",
        "\n",
        "n = 50\n",
        "v = jnp.zeros(2*n)\n",
        "\n",
        "jac_func = jacfwd(compute_error_func, argnums = (0))\n",
        "# cost_jit = compute_cost\n",
        "\n",
        "eta = 1.0\n",
        "\n",
        "maxiter = 50\n",
        "\n",
        "x_1 = 3.5\n",
        "y_1 = 0.6\n",
        "\n",
        "x_2 = 6.0\n",
        "y_2 = 3.0\n",
        "\n",
        "cost_track = []\n",
        "\n",
        "m_1 = 15\n",
        "m_2 = 30\n",
        "\n",
        "x_obs = 2.0\n",
        "y_obs = 1.0\n",
        "r_obs = 0.8\n",
        "beta = 3.0\n",
        "\n",
        "for i in range(0, maxiter):\n",
        "\n",
        "  ##### 1st source of computation cost: finding jacobian\n",
        "  A = jac_func(v, delta_t, n, m_1, m_2, x_init, y_init, x_f, y_f, x_1, y_1, x_2, y_2, x_obs, y_obs, r_obs, beta)\n",
        "\n",
        "  b = jnp.dot(A, v)-compute_error_func(v, delta_t, n, m_1, m_2, x_init, y_init, x_f, y_f, x_1, y_1, x_2, y_2, x_obs, y_obs, r_obs, beta)\n",
        "\n",
        "  Q = jnp.dot(A.T, A)+(1/eta)*jnp.identity(2*n)\n",
        "  q = -jnp.dot(A.T, b)-(1/eta)*v\n",
        "\n",
        "  v = jnp.linalg.solve(Q, -q) ##### 2nd source of computation cost\n",
        "\n",
        "  error = compute_error_func(v, delta_t, n, m_1, m_2, x_init, y_init, x_f, y_f, x_1, y_1, x_2, y_2, x_obs, y_obs, r_obs, beta)\n",
        "  cost_track.append(jnp.linalg.norm(error))\n",
        "\n",
        "v_x = v[0: n]\n",
        "v_y = v[n:2*n]\n",
        "\n",
        "x = x_init+jnp.cumsum(v_x*delta_t)\n",
        "y = y_init+jnp.cumsum(v_y*delta_t)\n",
        "\n",
        "th = jnp.linspace(0, jnp.pi*2, 50)\n",
        "x_circ = x_obs+r_obs*jnp.cos(th)\n",
        "y_circ = y_obs+r_obs*jnp.sin(th)\n",
        "\n",
        "\n",
        "print(v_x)\n",
        "\n",
        "plt.figure(1)\n",
        "plt.plot(cost_track)\n",
        "\n",
        "plt.show()\n",
        "\n",
        "plt.figure(1)\n",
        "plt.plot(x, y, 'o-')\n",
        "plt.plot(x_1, y_1, 'om')\n",
        "plt.plot(x_2, y_2, 'og')\n",
        "plt.plot(x_f, y_f, 'ok')\n",
        "plt.plot(x_circ, y_circ, '-k')\n",
        "plt.plot(x_init, y_init, 'ob', markersize = 10.0 )\n",
        "plt.plot(x_f, y_f, 'or', markersize = 10.0)\n",
        "\n",
        "\n",
        "plt.axis('equal')\n",
        "plt.show()\n"
      ],
      "metadata": {
        "colab": {
          "base_uri": "https://localhost:8080/",
          "height": 999
        },
        "id": "jpgt8sHrVWya",
        "outputId": "586423a5-2079-4d80-d678-fb572c67b906"
      },
      "execution_count": 30,
      "outputs": [
        {
          "output_type": "stream",
          "name": "stdout",
          "text": [
            "[ 1.1125379   1.1125929   1.1131294   1.115653    1.130852    1.169717\n",
            "  1.2106943   1.2430394   1.2604126   1.2590362   1.2372638   1.1954789\n",
            "  1.1360046   1.0632274   0.98539245  0.9263966   1.0126027   0.9923738\n",
            "  0.9490851   0.93192863  0.9218072   0.91145986  0.9008249   0.89020604\n",
            "  0.87413955  0.79853     0.67728263  0.52842927  0.35957247  0.1756039\n",
            " -0.01972296 -0.22324902 -0.4183346  -0.60175586 -0.7696337  -0.91682863\n",
            " -1.0351493  -1.102828   -1.1103588  -1.1136788  -1.1168259  -1.1197388\n",
            " -1.122371   -1.1246915  -1.1267176  -1.1286385  -1.1313     -1.1374182\n",
            " -1.1519793  -1.1707308 ]\n"
          ]
        },
        {
          "output_type": "display_data",
          "data": {
            "text/plain": [
              "<Figure size 640x480 with 1 Axes>"
            ],
            "image/png": "[encoded data removed]"
          },
          "metadata": {}
        },
        {
          "output_type": "display_data",
          "data": {
            "text/plain": [
              "<Figure size 640x480 with 1 Axes>"
            ],
            "image/png": "[encoded data removed]"
          },
          "metadata": {}
        }
      ]
    }
  ]
}