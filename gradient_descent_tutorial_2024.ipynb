{
  "nbformat": 4,
  "nbformat_minor": 0,
  "metadata": {
    "colab": {
      "provenance": []
    },
    "kernelspec": {
      "name": "python3",
      "display_name": "Python 3"
    },
    "language_info": {
      "name": "python"
    }
  },
  "cells": [
    {
      "cell_type": "code",
      "execution_count": null,
      "metadata": {
        "id": "t634Vnj8n5Hc"
      },
      "outputs": [],
      "source": []
    },
    {
      "cell_type": "markdown",
      "source": [
        "A basic tutorial on Gradient Descent\n",
        "\n",
        "Consider the following optimization problem\n",
        "\n",
        "\\begin{align}\n",
        "\\min (x_1+x_2-4)^2+x_2^2\n",
        "\\end{align}"
      ],
      "metadata": {
        "id": "qytL36aFn7Pe"
      }
    },
    {
      "cell_type": "code",
      "source": [
        "\n",
        "import numpy as np\n",
        "import jax.numpy as jnp\n",
        "from jax import grad, jit, random\n",
        "import matplotlib.pyplot as plt\n",
        "\n",
        "def compute_cost(theta, x_f, y_f, l_1, l_2, l_3):\n",
        "\n",
        "  theta_1 = theta[0]\n",
        "  theta_2 = theta[1]\n",
        "  theta_3 = theta[2]\n",
        "\n",
        "  f_1 = l_1*jnp.cos(theta_1)+l_2*jnp.cos(theta_1+theta_2)+l_3*jnp.cos(theta_1+theta_2+theta_3)\n",
        "  f_2 = l_1*jnp.sin(theta_1)+l_2*jnp.sin(theta_1+theta_2)+l_3*jnp.sin(theta_1+theta_2+theta_3)\n",
        "\n",
        "  cost = (f_1-x_f)**2+(f_2-y_f)**2\n",
        "\n",
        "  return cost\n",
        "\n",
        "\n",
        "# def compute_cost(x):\n",
        "#   x_1 = x[0]\n",
        "#   x_2 = x[1]\n",
        "\n",
        "#   cost = (x_1+x_2-4)**2+x_2**2\n",
        "\n",
        "#   return cost\n",
        "\n",
        "\n",
        "grad_func = grad(compute_cost, argnums = (0))\n",
        "\n",
        "nvar = 3\n",
        "theta = jnp.ones(nvar)\n",
        "# print(grad_func(x))\n",
        "\n",
        "maxiter = 1500\n",
        "eta = 0.01\n",
        "\n",
        "l_1 = 1.0\n",
        "l_2 = 1.0\n",
        "l_3 = 1.0\n",
        "\n",
        "x_f = 3.0\n",
        "y_f = 2.0\n",
        "\n",
        "cost_res = []\n",
        "\n",
        "#### graident descent loop\n",
        "for i in range(0, maxiter):\n",
        "\n",
        "  theta = theta-eta*grad_func(theta,x_f, y_f, l_1, l_2, l_3) ## recursive update\n",
        "  cost = compute_cost(theta,x_f, y_f, l_1, l_2, l_3)\n",
        "  cost_res.append(cost)\n",
        "\n",
        "\n",
        "print(theta)\n",
        "print(cost_res[-1])\n",
        "\n",
        "plt.figure(1)\n",
        "plt.plot(cost_res)\n",
        "plt.show()\n",
        "\n",
        "\n",
        "\n"
      ],
      "metadata": {
        "colab": {
          "base_uri": "https://localhost:8080/",
          "height": 465
        },
        "id": "Vv7TxrGEoQ7E",
        "outputId": "5f52a11e-04fd-4b54-99b9-29a9d6f68e66"
      },
      "execution_count": 5,
      "outputs": [
        {
          "output_type": "stream",
          "name": "stdout",
          "text": [
            "[ 5.8803487e-01 -8.3409250e-05  7.1565111e-05]\n",
            "0.36669236\n"
          ]
        },
        {
          "output_type": "display_data",
          "data": {
            "text/plain": [
              "<Figure size 640x480 with 1 Axes>"
            ],
            "image/png": "[encoded data removed]"
          },
          "metadata": {}
        }
      ]
    },
    {
      "cell_type": "markdown",
      "source": [
        "Let us now gradient descent for the following function"
      ],
      "metadata": {
        "id": "b_qopgPN_CXA"
      }
    },
    {
      "cell_type": "code",
      "source": [],
      "metadata": {
        "id": "L3EKHjfPpInS"
      },
      "execution_count": null,
      "outputs": []
    }
  ]
}